{
 "cells": [
  {
   "cell_type": "code",
   "execution_count": 86,
   "id": "fab9d6ea-4d49-41ca-9d5a-5f9e206cbb36",
   "metadata": {},
   "outputs": [],
   "source": [
    "secret = 5\n",
    "guess = 2"
   ]
  },
  {
   "cell_type": "code",
   "execution_count": 88,
   "id": "3f450f4d-9131-49d0-9aa9-c41bf750aa6e",
   "metadata": {},
   "outputs": [
    {
     "name": "stdout",
     "output_type": "stream",
     "text": [
      "Too Low\n"
     ]
    }
   ],
   "source": [
    "if guess > secret:\n",
    "    print('Too high')\n",
    "elif guess < secret:\n",
    "    print('Too Low')\n",
    "else:\n",
    "    print('just right')\n",
    "    "
   ]
  },
  {
   "cell_type": "code",
   "execution_count": 99,
   "id": "53793e36-6b4f-421d-8c74-e88218b36027",
   "metadata": {},
   "outputs": [
    {
     "name": "stdout",
     "output_type": "stream",
     "text": [
      "This is a pumpkin.\n"
     ]
    }
   ],
   "source": [
    "small = False\n",
    "green = False\n",
    "\n",
    "if small and green:\n",
    "    print(\"This is a pea.\")\n",
    "elif small and not green:\n",
    "    print(\"This is a cherry.\")\n",
    "elif not small and green:\n",
    "    print(\"This is a watermelon.\")\n",
    "else:\n",
    "    print(\"This is a pumpkin.\")"
   ]
  },
  {
   "cell_type": "code",
   "execution_count": null,
   "id": "054b0a62-fabd-4d65-b527-8c771953329c",
   "metadata": {},
   "outputs": [],
   "source": []
  }
 ],
 "metadata": {
  "kernelspec": {
   "display_name": "Python 3 (ipykernel)",
   "language": "python",
   "name": "python3"
  },
  "language_info": {
   "codemirror_mode": {
    "name": "ipython",
    "version": 3
   },
   "file_extension": ".py",
   "mimetype": "text/x-python",
   "name": "python",
   "nbconvert_exporter": "python",
   "pygments_lexer": "ipython3",
   "version": "3.12.4"
  }
 },
 "nbformat": 4,
 "nbformat_minor": 5
}
