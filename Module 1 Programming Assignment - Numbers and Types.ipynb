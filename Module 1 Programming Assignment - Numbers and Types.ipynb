{
 "cells": [
  {
   "cell_type": "code",
   "execution_count": 24,
   "id": "9185b26b-d237-4bfb-8e77-252a6ff8f1cf",
   "metadata": {},
   "outputs": [
    {
     "name": "stdout",
     "output_type": "stream",
     "text": [
      "There are 3600 seconds in an hour\n"
     ]
    }
   ],
   "source": [
    "seconds_per_minute = 60\n",
    "minutes_per_hour = 60\n",
    "\n",
    "seconds_per_hour = seconds_per_minute*minutes_per_hour \n",
    "\n",
    "print(\"There are\", seconds_per_hour, \"seconds in an hour\")"
   ]
  },
  {
   "cell_type": "code",
   "execution_count": 26,
   "id": "09cb48aa-6109-45ee-ab48-c20ce3404603",
   "metadata": {},
   "outputs": [
    {
     "name": "stdout",
     "output_type": "stream",
     "text": [
      "How many seconds are in a day? The answer is 86400\n"
     ]
    }
   ],
   "source": [
    "hours_per_day = 24 \n",
    "\n",
    "c = seconds_per_hour*hours_per_day \n",
    "print(\"How many seconds are in a day? The answer is\",c)"
   ]
  },
  {
   "cell_type": "code",
   "execution_count": 15,
   "id": "cab70b16-9b76-4444-8f25-dc2dc378a99d",
   "metadata": {},
   "outputs": [
    {
     "name": "stdout",
     "output_type": "stream",
     "text": [
      "There are 86400 seconds in a day\n"
     ]
    }
   ],
   "source": [
    "seconds_per_day = seconds_per_hour*hours_per_day\n",
    "\n",
    "print(\"There are\", seconds_per_day, \"seconds in a day\")"
   ]
  },
  {
   "cell_type": "code",
   "execution_count": 29,
   "id": "7bcd790f-cc2f-4f2c-a53e-dff04b4778c1",
   "metadata": {},
   "outputs": [
    {
     "name": "stdout",
     "output_type": "stream",
     "text": [
      "Floating point division of seconds_per_day by seconds_per_hour is 24.0\n"
     ]
    }
   ],
   "source": [
    "seconds_per_minute = 60\n",
    "minutes_per_hour = 60\n",
    "hours_per_day = 24 \n",
    "seconds_per_hour = seconds_per_minute*minutes_per_hour \n",
    "seconds_per_day = seconds_per_hour*hours_per_day\n",
    "\n",
    "c = seconds_per_day/seconds_per_hour\n",
    "\n",
    "print(\"Floating point division of seconds_per_day by seconds_per_hour is\",c)"
   ]
  },
  {
   "cell_type": "code",
   "execution_count": 14,
   "id": "79bc9e42-bc40-4596-8f78-88910517db7b",
   "metadata": {},
   "outputs": [
    {
     "name": "stdout",
     "output_type": "stream",
     "text": [
      "Integer division of seconds_per_day by seconds_per_hour is 24\n"
     ]
    }
   ],
   "source": [
    "seconds_per_minute = 60\n",
    "minutes_per_hour = 60\n",
    "hours_per_day = 24 \n",
    "seconds_per_hour = seconds_per_minute*minutes_per_hour \n",
    "seconds_per_day = seconds_per_hour*hours_per_day\n",
    "\n",
    "c = seconds_per_day//seconds_per_hour\n",
    "\n",
    "print(\"Integer division of seconds_per_day by seconds_per_hour is\",c)"
   ]
  },
  {
   "cell_type": "code",
   "execution_count": 20,
   "id": "c561fdb7-c33c-4d63-8e90-13d29e132579",
   "metadata": {},
   "outputs": [
    {
     "name": "stdout",
     "output_type": "stream",
     "text": [
      "Did this number agree with the floating-point value from the previous question, aside from the final .0? YES\n"
     ]
    }
   ],
   "source": [
    "print(\"Did this number agree with the floating-point value from the previous question, aside from the final .0?\" \" YES\")"
   ]
  }
 ],
 "metadata": {
  "kernelspec": {
   "display_name": "Python 3 (ipykernel)",
   "language": "python",
   "name": "python3"
  },
  "language_info": {
   "codemirror_mode": {
    "name": "ipython",
    "version": 3
   },
   "file_extension": ".py",
   "mimetype": "text/x-python",
   "name": "python",
   "nbconvert_exporter": "python",
   "pygments_lexer": "ipython3",
   "version": "3.12.4"
  }
 },
 "nbformat": 4,
 "nbformat_minor": 5
}
