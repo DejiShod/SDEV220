{
 "cells": [
  {
   "cell_type": "code",
   "execution_count": 32,
   "id": "338a4bcd-e82b-4637-99fe-0173edc7abba",
   "metadata": {},
   "outputs": [],
   "source": [
    "things = ['mozzarella', 'cinderella', 'salmonella']"
   ]
  },
  {
   "cell_type": "code",
   "execution_count": 36,
   "id": "8e38a1a2-0e79-49de-b5e0-f7ea8f96c656",
   "metadata": {},
   "outputs": [
    {
     "name": "stdout",
     "output_type": "stream",
     "text": [
      "['mozzarella', 'Cinderella', 'salmonella']\n"
     ]
    }
   ],
   "source": [
    "things[1] = things[1].capitalize()\n",
    "print(things)"
   ]
  },
  {
   "cell_type": "markdown",
   "id": "08adbf08-3c75-48bf-a5b9-0df837643268",
   "metadata": {},
   "source": [
    "Did it change the element in the list? YES"
   ]
  },
  {
   "cell_type": "code",
   "execution_count": 44,
   "id": "3a952016-29f2-4f16-ba07-f750cdbe7d04",
   "metadata": {},
   "outputs": [
    {
     "name": "stdout",
     "output_type": "stream",
     "text": [
      "['MOZZARELLA', 'Cinderella', 'salmonella']\n"
     ]
    }
   ],
   "source": [
    "things[0] = things[0].upper()\n",
    "print(things)"
   ]
  },
  {
   "cell_type": "code",
   "execution_count": 56,
   "id": "f5c1ce93-3dcc-4bb3-a28d-dbe0c49a508e",
   "metadata": {},
   "outputs": [
    {
     "name": "stdout",
     "output_type": "stream",
     "text": [
      "['MOZZARELLA', 'Cinderella']\n"
     ]
    }
   ],
   "source": [
    "things.remove('salmonella')\n",
    "print(things)"
   ]
  },
  {
   "cell_type": "code",
   "execution_count": null,
   "id": "4e6f5af2-0d4f-48e2-be39-203f4c12851a",
   "metadata": {},
   "outputs": [],
   "source": []
  },
  {
   "cell_type": "code",
   "execution_count": null,
   "id": "2f2aa16f-9ebc-458f-b8ac-83a8b9c32a25",
   "metadata": {},
   "outputs": [],
   "source": []
  },
  {
   "cell_type": "markdown",
   "id": "4dcba810-046a-46cd-804a-e41f873a7be7",
   "metadata": {},
   "source": [
    "Define a function called good() that returns the following list: ['Harry', 'Ron', 'Hermione']."
   ]
  },
  {
   "cell_type": "code",
   "execution_count": 65,
   "id": "3a969a22-d241-4ca7-81af-b25824568d66",
   "metadata": {},
   "outputs": [
    {
     "name": "stdout",
     "output_type": "stream",
     "text": [
      "Harrry Ron Hermione\n"
     ]
    }
   ],
   "source": [
    "def good():\n",
    "    print('Harrry', 'Ron', 'Hermione')\n",
    "\n",
    "good()"
   ]
  },
  {
   "cell_type": "markdown",
   "id": "7f10f332-e471-4296-8e51-ed7f091f07c3",
   "metadata": {},
   "source": [
    "9.2 Define a generator function called get_odds() that returns the odd numbers from range(10). Use a for loop to find and print the third value returned."
   ]
  },
  {
   "cell_type": "code",
   "execution_count": 89,
   "id": "a96f0df8-6006-4f39-9c79-8ee3146d5c2b",
   "metadata": {},
   "outputs": [
    {
     "name": "stdout",
     "output_type": "stream",
     "text": [
      "The third nunber is: 5\n"
     ]
    }
   ],
   "source": [
    "def get_odds():\n",
    "    for number in range(10):\n",
    "        if number % 2 != 0:\n",
    "            yield number\n",
    "\n",
    "count = 0\n",
    "for odd in get_odds():\n",
    "    count += 1\n",
    "    if count ==3:\n",
    "        print(\"The third nunber is:\", odd)"
   ]
  },
  {
   "cell_type": "code",
   "execution_count": null,
   "id": "9652920f-0234-457f-b807-919aad1fc261",
   "metadata": {},
   "outputs": [],
   "source": []
  }
 ],
 "metadata": {
  "kernelspec": {
   "display_name": "Python 3 (ipykernel)",
   "language": "python",
   "name": "python3"
  },
  "language_info": {
   "codemirror_mode": {
    "name": "ipython",
    "version": 3
   },
   "file_extension": ".py",
   "mimetype": "text/x-python",
   "name": "python",
   "nbconvert_exporter": "python",
   "pygments_lexer": "ipython3",
   "version": "3.12.4"
  }
 },
 "nbformat": 4,
 "nbformat_minor": 5
}
