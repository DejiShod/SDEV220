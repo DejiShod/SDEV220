{
 "cells": [
  {
   "cell_type": "code",
   "execution_count": 12,
   "id": "2f4b3d29-d1b2-449b-8fd1-da2d0eb44c28",
   "metadata": {},
   "outputs": [
    {
     "name": "stdout",
     "output_type": "stream",
     "text": [
      "1\n"
     ]
    }
   ],
   "source": [
    "def findOccurrence(arr, k):\n",
    "    left, right = 0, len(arr) - 1\n",
    "    result = -1  \n",
    "    \n",
    "    while left <= right:\n",
    "        mid = left + (right - left) // 2  \n",
    "        \n",
    "        if arr[mid] == k:\n",
    "            result = mid  \n",
    "            right = mid - 1 \n",
    "        elif arr[mid] < k:\n",
    "            left = mid + 1 \n",
    "        else:\n",
    "            right = mid - 1  \n",
    "\n",
    "    return result\n",
    "\n",
    "arr = [1, 2, 2, 2, 3, 4, 5]\n",
    "k = 2\n",
    "print(findOccurrence(arr, k))\n"
   ]
  }
 ],
 "metadata": {
  "kernelspec": {
   "display_name": "Python 3 (ipykernel)",
   "language": "python",
   "name": "python3"
  },
  "language_info": {
   "codemirror_mode": {
    "name": "ipython",
    "version": 3
   },
   "file_extension": ".py",
   "mimetype": "text/x-python",
   "name": "python",
   "nbconvert_exporter": "python",
   "pygments_lexer": "ipython3",
   "version": "3.12.4"
  }
 },
 "nbformat": 4,
 "nbformat_minor": 5
}
