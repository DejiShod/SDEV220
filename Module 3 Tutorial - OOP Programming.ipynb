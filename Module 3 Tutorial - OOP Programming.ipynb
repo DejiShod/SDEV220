{
 "cells": [
  {
   "cell_type": "code",
   "execution_count": 7,
   "id": "9de61cf9-ad57-4c41-96cb-012e0c65749d",
   "metadata": {},
   "outputs": [],
   "source": [
    "def sortOrder(arr):\n",
    "    low, mid, high = 0, 0, len(arr) - 1\n",
    "    while mid<=high:\n",
    "        if arr[mid] == 0:\n",
    "            arr[low], arr[mid] = arr[mid], arr[low]\n",
    "            low += 1\n",
    "            mid += 1\n",
    "        elif arr[mid] == 1:\n",
    "            mid += 1\n",
    "        else:\n",
    "            arr[mid], arr[high] = arr[high], arr[mid]\n",
    "            high -= 1\n",
    "\n",
    "    return arr\n"
   ]
  },
  {
   "cell_type": "code",
   "execution_count": 9,
   "id": "8d95765c-2002-455b-a97c-e2060cc88c17",
   "metadata": {},
   "outputs": [
    {
     "name": "stdout",
     "output_type": "stream",
     "text": [
      "[0, 0, 0, 1, 1, 1, 2, 2]\n"
     ]
    }
   ],
   "source": [
    "arr = [0,1,2,1,0,2,1,0]\n",
    "sorted_arr = sortOrder(arr)\n",
    "print(sorted_arr)"
   ]
  },
  {
   "cell_type": "code",
   "execution_count": null,
   "id": "e0672ea3-48ee-44b4-a890-f3f199367910",
   "metadata": {},
   "outputs": [],
   "source": []
  }
 ],
 "metadata": {
  "kernelspec": {
   "display_name": "Python 3 (ipykernel)",
   "language": "python",
   "name": "python3"
  },
  "language_info": {
   "codemirror_mode": {
    "name": "ipython",
    "version": 3
   },
   "file_extension": ".py",
   "mimetype": "text/x-python",
   "name": "python",
   "nbconvert_exporter": "python",
   "pygments_lexer": "ipython3",
   "version": "3.12.4"
  }
 },
 "nbformat": 4,
 "nbformat_minor": 5
}
