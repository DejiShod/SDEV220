{
 "cells": [
  {
   "cell_type": "code",
   "execution_count": 27,
   "id": "63b1cb6f-af58-4ec2-b7a5-3ddf37289fff",
   "metadata": {},
   "outputs": [
    {
     "data": {
      "text/plain": [
       "'zoo.py'"
      ]
     },
     "execution_count": 27,
     "metadata": {},
     "output_type": "execute_result"
    }
   ],
   "source": [
    "\n",
    "zoo_code = \"\"\"\n",
    "def hours():\n",
    "    print('Open 9-5 daily')\n",
    "\"\"\"\n",
    "\n",
    "\n",
    "file_path = 'zoo.py'\n",
    "with open(file_path, 'w') as file:\n",
    "    file.write(zoo_code)\n",
    "\n",
    "file_path\n"
   ]
  },
  {
   "cell_type": "code",
   "execution_count": 31,
   "id": "47bf9d9c-2a14-458b-be47-c8828033433f",
   "metadata": {},
   "outputs": [
    {
     "name": "stdout",
     "output_type": "stream",
     "text": [
      "Open 9-5 daily\n"
     ]
    }
   ],
   "source": [
    "import zoo\n",
    "zoo.hours()"
   ]
  },
  {
   "cell_type": "code",
   "execution_count": 33,
   "id": "921e1e05-da43-493a-8a47-18ce64902cc8",
   "metadata": {},
   "outputs": [
    {
     "name": "stdout",
     "output_type": "stream",
     "text": [
      "Open 9-5 daily\n"
     ]
    }
   ],
   "source": [
    "import zoo as menagerie\n",
    "menagerie.hours()  "
   ]
  },
  {
   "cell_type": "code",
   "execution_count": null,
   "id": "c9ddd844-5329-48b1-8337-0144a595be42",
   "metadata": {},
   "outputs": [],
   "source": []
  },
  {
   "cell_type": "code",
   "execution_count": 4,
   "id": "5c6b3445-e4a3-44e9-856f-9389b37074b5",
   "metadata": {},
   "outputs": [
    {
     "name": "stdout",
     "output_type": "stream",
     "text": [
      "Requirement already satisfied: sqlalchemy in c:\\users\\shoddeji\\appdata\\local\\anaconda3\\lib\\site-packages (2.0.30)\n",
      "Requirement already satisfied: typing-extensions>=4.6.0 in c:\\users\\shoddeji\\appdata\\local\\anaconda3\\lib\\site-packages (from sqlalchemy) (4.11.0)\n",
      "Requirement already satisfied: greenlet!=0.4.17 in c:\\users\\shoddeji\\appdata\\local\\anaconda3\\lib\\site-packages (from sqlalchemy) (3.0.1)\n"
     ]
    }
   ],
   "source": [
    "!pip install sqlalchemy"
   ]
  },
  {
   "cell_type": "code",
   "execution_count": 19,
   "id": "14b9853e-ed09-403e-8526-ed2d7a011db6",
   "metadata": {},
   "outputs": [
    {
     "name": "stdout",
     "output_type": "stream",
     "text": [
      "Perdido Street Station\n",
      "Small Gods\n",
      "The Spellman Files\n",
      "The Weirdstone of Brisingamen\n",
      "Thud!\n"
     ]
    }
   ],
   "source": [
    "from sqlalchemy import create_engine, Table, MetaData, select\n",
    "\n",
    "\n",
    "engine = create_engine('sqlite:///books.db')\n",
    "metadata = MetaData()\n",
    "\n",
    "books_table = Table('books', metadata, autoload_with=engine)\n",
    "\n",
    "with engine.connect() as connection:\n",
    "    stmt = select(books_table.c.title).order_by(books_table.c.title.asc())\n",
    "    result = connection.execute(stmt)\n",
    "\n",
    "    for row in result:\n",
    "        print(row.title)\n"
   ]
  },
  {
   "cell_type": "code",
   "execution_count": null,
   "id": "2e9098be-8f87-49d5-a46c-d351f01f13ca",
   "metadata": {},
   "outputs": [],
   "source": []
  }
 ],
 "metadata": {
  "kernelspec": {
   "display_name": "Python 3 (ipykernel)",
   "language": "python",
   "name": "python3"
  },
  "language_info": {
   "codemirror_mode": {
    "name": "ipython",
    "version": 3
   },
   "file_extension": ".py",
   "mimetype": "text/x-python",
   "name": "python",
   "nbconvert_exporter": "python",
   "pygments_lexer": "ipython3",
   "version": "3.12.4"
  }
 },
 "nbformat": 4,
 "nbformat_minor": 5
}
