{
 "cells": [
  {
   "cell_type": "code",
   "execution_count": 27,
   "id": "63b1cb6f-af58-4ec2-b7a5-3ddf37289fff",
   "metadata": {},
   "outputs": [
    {
     "data": {
      "text/plain": [
       "'zoo.py'"
      ]
     },
     "execution_count": 27,
     "metadata": {},
     "output_type": "execute_result"
    }
   ],
   "source": [
    "\n",
    "zoo_code = \"\"\"\n",
    "def hours():\n",
    "    print('Open 9-5 daily')\n",
    "\"\"\"\n",
    "\n",
    "\n",
    "file_path = 'zoo.py'\n",
    "with open(file_path, 'w') as file:\n",
    "    file.write(zoo_code)\n",
    "\n",
    "file_path\n"
   ]
  },
  {
   "cell_type": "code",
   "execution_count": 31,
   "id": "47bf9d9c-2a14-458b-be47-c8828033433f",
   "metadata": {},
   "outputs": [
    {
     "name": "stdout",
     "output_type": "stream",
     "text": [
      "Open 9-5 daily\n"
     ]
    }
   ],
   "source": [
    "import zoo\n",
    "zoo.hours()"
   ]
  },
  {
   "cell_type": "code",
   "execution_count": 33,
   "id": "921e1e05-da43-493a-8a47-18ce64902cc8",
   "metadata": {},
   "outputs": [
    {
     "name": "stdout",
     "output_type": "stream",
     "text": [
      "Open 9-5 daily\n"
     ]
    }
   ],
   "source": [
    "import zoo as menagerie\n",
    "menagerie.hours()  "
   ]
  },
  {
   "cell_type": "code",
   "execution_count": 35,
   "id": "c6cfb0c5-2104-4b2f-b785-a436b2ae4a3d",
   "metadata": {},
   "outputs": [
    {
     "name": "stdout",
     "output_type": "stream",
     "text": [
      "Open 9-5 daily\n"
     ]
    }
   ],
   "source": [
    "from zoo import hours\n",
    "hours()  "
   ]
  },
  {
   "cell_type": "code",
   "execution_count": null,
   "id": "c9ddd844-5329-48b1-8337-0144a595be42",
   "metadata": {},
   "outputs": [],
   "source": []
  }
 ],
 "metadata": {
  "kernelspec": {
   "display_name": "Python 3 (ipykernel)",
   "language": "python",
   "name": "python3"
  },
  "language_info": {
   "codemirror_mode": {
    "name": "ipython",
    "version": 3
   },
   "file_extension": ".py",
   "mimetype": "text/x-python",
   "name": "python",
   "nbconvert_exporter": "python",
   "pygments_lexer": "ipython3",
   "version": "3.12.4"
  }
 },
 "nbformat": 4,
 "nbformat_minor": 5
}
