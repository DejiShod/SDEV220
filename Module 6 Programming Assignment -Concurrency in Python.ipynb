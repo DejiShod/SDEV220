{
 "cells": [
  {
   "cell_type": "code",
   "execution_count": 65,
   "id": "426fab0c-d721-4a40-8a65-1dc9b5b356e4",
   "metadata": {},
   "outputs": [
    {
     "data": {
      "text/plain": [
       "'today.txt'"
      ]
     },
     "execution_count": 65,
     "metadata": {},
     "output_type": "execute_result"
    }
   ],
   "source": [
    "from datetime import datetime\n",
    "\n",
    "currentDate = datetime.now().strftime(\"%Y-%m-%d\")\n",
    "\n",
    "filePath = \"today.txt\" \n",
    "with open(filePath, \"w\") as file:\n",
    "    file.write(currentDate)\n",
    "\n",
    "filePath "
   ]
  },
  {
   "cell_type": "code",
   "execution_count": 63,
   "id": "efb64ca8-5ee8-4d20-aeac-baa91cf80f11",
   "metadata": {},
   "outputs": [
    {
     "data": {
      "text/plain": [
       "'2024-12-01'"
      ]
     },
     "execution_count": 63,
     "metadata": {},
     "output_type": "execute_result"
    }
   ],
   "source": [
    "with open(\"today.txt\", \"r\") as file:  \n",
    "    todayString = file.read()  \n",
    "\n",
    "todayString "
   ]
  },
  {
   "cell_type": "code",
   "execution_count": 61,
   "id": "2befd466-38af-419f-9398-cdeaf44b5b70",
   "metadata": {},
   "outputs": [
    {
     "data": {
      "text/plain": [
       "datetime.datetime(2024, 12, 1, 0, 0)"
      ]
     },
     "execution_count": 61,
     "metadata": {},
     "output_type": "execute_result"
    }
   ],
   "source": [
    "from datetime import datetime\n",
    "\n",
    "with open(\"today.txt\", \"r\") as file: \n",
    "    todayString = file.read() \n",
    "\n",
    "parsedDate = datetime.strptime(todayString.strip(), \"%Y-%m-%d\")  \n",
    "parsedDate "
   ]
  },
  {
   "cell_type": "code",
   "execution_count": 59,
   "id": "1ed8b67e-be7c-4bb6-b56f-127e894f9080",
   "metadata": {},
   "outputs": [],
   "source": [
    "import multiprocessing\n",
    "import random\n",
    "import time\n",
    "from datetime import datetime\n",
    "\n",
    "\n",
    "def processTask(processId):\n",
    "    waitTime = random.uniform(0, 1)  \n",
    "    time.sleep(waitTime)\n",
    "    print(f\"Process {processId} finished at {datetime.now().strftime('%H:%M:%S.%f')}\")\n",
    "\n",
    "if __name__ == \"__main__\":\n",
    "\n",
    "    processes = [multiprocessing.Process(target=processTask, args=(i,)) for i in range(1, 4)]\n",
    "    \n",
    "    for process in processes:\n",
    "        process.start()\n",
    "    \n",
    "    for process in processes:\n",
    "        process.join()"
   ]
  },
  {
   "cell_type": "code",
   "execution_count": null,
   "id": "05fbe770-ce16-4725-9ca7-ee4420850463",
   "metadata": {},
   "outputs": [],
   "source": []
  }
 ],
 "metadata": {
  "kernelspec": {
   "display_name": "Python 3 (ipykernel)",
   "language": "python",
   "name": "python3"
  },
  "language_info": {
   "codemirror_mode": {
    "name": "ipython",
    "version": 3
   },
   "file_extension": ".py",
   "mimetype": "text/x-python",
   "name": "python",
   "nbconvert_exporter": "python",
   "pygments_lexer": "ipython3",
   "version": "3.12.4"
  }
 },
 "nbformat": 4,
 "nbformat_minor": 5
}
